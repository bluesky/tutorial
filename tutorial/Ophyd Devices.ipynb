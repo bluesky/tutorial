{
 "cells": [
  {
   "cell_type": "markdown",
   "metadata": {},
   "source": [
    "# Devices\n",
    "\n",
    "\n",
    "Constructing hardware support in Ophyd relies on a pattern of hierarchical composition. Beginning with the base-class, `Device`, functionality may be added via a combination of composition and multiple inheritance.\n",
    "\n",
    "From a very high level, an Ophyd `Device` is simply a logical container of EPICS process variables. These containers instantiate and attempt connection to their `Component` class attributes, exposing the familiar `get/put` accessors of EPICS.\n",
    "\n",
    "An example here should help to clarify these notions."
   ]
  },
  {
   "cell_type": "markdown",
   "metadata": {},
   "source": [
    "### First, ensure that the EPICS Channel Access context is appropriately initialized"
   ]
  },
  {
   "cell_type": "code",
   "execution_count": null,
   "metadata": {
    "collapsed": false
   },
   "outputs": [],
   "source": [
    "from ophyd.commands import *\n",
    "\n",
    "setup_ophyd()"
   ]
  },
  {
   "cell_type": "markdown",
   "metadata": {},
   "source": [
    "### Import Ophyd `Signal` and `Component` classes\n",
    "\n",
    "Some imports are required to construct hardware support."
   ]
  },
  {
   "cell_type": "code",
   "execution_count": null,
   "metadata": {
    "collapsed": true
   },
   "outputs": [],
   "source": [
    "from ophyd import (EpicsSignal, EpicsSignalRO, PVPositioner, Component as Cpt)"
   ]
  },
  {
   "cell_type": "markdown",
   "metadata": {},
   "source": [
    "The `CompositeMotor` class below inherits from `PVPositioner`, which is a descendent of the base-class, `Device`. Presumably, it inherits some motor-like behavior as well. The `PVPositioner` expects to have several, self-explanatory attributes: `setpoint`, `readback`, `actuate`, `stop_signal`, and `done`. Here, these attributes are expressed as `EpicsSignals`, as they will connect to the simulated hardware environment.\n",
    "\n",
    "The utility of this `PVPositioner` is that it affords the capability of constructing a 'motor-like' object, without insisting on a rigid EPICS API (like the Motor Record) to provide the required functionality. The use-cases for the PVPositioner are not limited to positioning systems: these could be used for temperature, pressure, or electrometer controllers too.\n",
    "\n",
    "\n",
    "`Component`s are factory classes that accept a `Signal`-type class and PV suffix, and mate these with the parent `Device`'s PV prefix. In the example below, `fakemtr` has a PV prefix of 'sim:fake:', which is concatenated with its `setpoint` attribute's suffix of 'mtr-sp' to create a complete PV of 'sim:fake:mtr-sp'. The result is that the following operations are now equivalent:\n",
    "\n",
    "```python\n",
    "caput('sim:fake:mtr-sp', 3.14)\n",
    "\n",
    "fakemtr.setpoint.put(3.14)\n",
    "```"
   ]
  },
  {
   "cell_type": "code",
   "execution_count": null,
   "metadata": {
    "collapsed": false
   },
   "outputs": [],
   "source": [
    "class CompositeMotor(PVPositioner):\n",
    "    setpoint = Cpt(EpicsSignal, 'mtr-sp')\n",
    "    readback = Cpt(EpicsSignalRO, 'mtr-i')\n",
    "    actuate = Cpt(EpicsSignal, 'mtr:go-cmd.PROC')\n",
    "    stop_signal = Cpt(EpicsSignal, 'mtr:stop-cmd.PROC')\n",
    "    done = Cpt(EpicsSignal, 'mtr:moving-sts')\n",
    "    \n",
    "    actuate_value = 1\n",
    "    stop_value = 1\n",
    "    done_val = 1"
   ]
  },
  {
   "cell_type": "markdown",
   "metadata": {},
   "source": [
    "If we instantiate a `CompositeMotor`, we can exercise various methods exposed that make the object resemble a positioner of some type."
   ]
  },
  {
   "cell_type": "code",
   "execution_count": null,
   "metadata": {
    "collapsed": true
   },
   "outputs": [],
   "source": [
    "fakemtr = CompositeMotor('sim:fake:', name='fakemtr', egu='mm')"
   ]
  },
  {
   "cell_type": "code",
   "execution_count": null,
   "metadata": {
    "collapsed": false
   },
   "outputs": [],
   "source": [
    "fakemtr.connected"
   ]
  },
  {
   "cell_type": "code",
   "execution_count": null,
   "metadata": {
    "collapsed": false
   },
   "outputs": [],
   "source": [
    "fakemtr.position"
   ]
  },
  {
   "cell_type": "code",
   "execution_count": null,
   "metadata": {
    "collapsed": false
   },
   "outputs": [],
   "source": [
    "fakemtr.move(1.0)"
   ]
  },
  {
   "cell_type": "code",
   "execution_count": null,
   "metadata": {
    "collapsed": true
   },
   "outputs": [],
   "source": [
    "fakemtr.stop()"
   ]
  },
  {
   "cell_type": "code",
   "execution_count": null,
   "metadata": {
    "collapsed": false
   },
   "outputs": [],
   "source": [
    "fakemtr.position"
   ]
  },
  {
   "cell_type": "markdown",
   "metadata": {},
   "source": [
    "The individual class attributes of `fakemtr` are also available for access:"
   ]
  },
  {
   "cell_type": "code",
   "execution_count": null,
   "metadata": {
    "collapsed": false
   },
   "outputs": [],
   "source": [
    "fakemtr.readback.get()"
   ]
  },
  {
   "cell_type": "markdown",
   "metadata": {},
   "source": [
    "Examining the repr of `fakemtr.readback`, note that a `Signal`-based `Component` has attributes and methods of its own.\n"
   ]
  },
  {
   "cell_type": "code",
   "execution_count": null,
   "metadata": {
    "collapsed": false
   },
   "outputs": [],
   "source": [
    "fakemtr.readback"
   ]
  },
  {
   "cell_type": "markdown",
   "metadata": {},
   "source": [
    "In fact, some of these attributes are exactly the same as what would be obtained using EPICS calls directly."
   ]
  },
  {
   "cell_type": "code",
   "execution_count": null,
   "metadata": {
    "collapsed": false
   },
   "outputs": [],
   "source": [
    "from epics import cainfo\n",
    "\n",
    "cainfo('sim:fake:mtr-i')"
   ]
  }
 ],
 "metadata": {
  "kernelspec": {
   "display_name": "Python 3",
   "language": "python",
   "name": "python3"
  },
  "language_info": {
   "codemirror_mode": {
    "name": "ipython",
    "version": 3
   },
   "file_extension": ".py",
   "mimetype": "text/x-python",
   "name": "python",
   "nbconvert_exporter": "python",
   "pygments_lexer": "ipython3",
   "version": "3.5.1"
  }
 },
 "nbformat": 4,
 "nbformat_minor": 0
}
