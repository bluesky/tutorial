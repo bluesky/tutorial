{
 "cells": [
  {
   "cell_type": "markdown",
   "metadata": {},
   "source": [
    "# Introduction"
   ]
  },
  {
   "cell_type": "markdown",
   "metadata": {},
   "source": [
    "As part of this 'sandbox' environment, an [EPICS](http://www.aps.anl.gov/epics/) IOC is running here and available for interaction. This IOC provides PVs (process variables) to interact with 6 independent motors, an [areadetector](http://cars9.uchicago.edu/software/epics/areaDetector.html) camera producing 1024x1024 images, and 6 point-detectors. These point-sensors yield scalar values whose amplitude depends the position of an associated simulated motor. The features produced by the point sensors are found in the motor ranges -5 to 5 units.\n",
    "\n",
    "The pv names and descriptions are here:\n",
    "\n",
    "| PV Name | Description |\n",
    "| :-----: | :-------:   |\n",
    "|sim:mtr1 | Motor Record 1 |\n",
    "|sim:mtr2 | Motor Record 2 |\n",
    "|sim:mtr3 | Motor Record 3 |\n",
    "|sim:mtr4 | Motor Record 4 |\n",
    "|sim:mtr5 | Motor Record 5 |\n",
    "|sim:mtr6 | Motor Record 6 |\n",
    "| ------- | -------        |\n",
    "|sim:dev1:curr | scaler sensor 1; linked to 'sim:mtr1'; peak value at 1.5 |\n",
    "|sim:dev2:curr | scaler sensor 2; linked to 'sim:mtr2'; peak value at 0.5 |\n",
    "|sim:dev3:curr | scaler sensor 3; linked to 'sim:mtr3'; peak value at -0.5 |\n",
    "|sim:dev4:curr | scaler sensor 4; linked to 'sim:mtr4'; peak value at -1.5 |\n",
    "|sim:dev5:curr | scaler sensor 5; linked to 'sim:mtr5'; peak value at -2.5 |\n",
    "|sim:dev6:curr | scaler sensor 6; linked to 'sim:mtr6'; peak value at -1.0 |\n",
    "| ------- | -------        |\n",
    "|sim:det: | areaDetector pv prefix; available plugins include 'image1:', 'cam1:', 'Stats1-5', etc|\n",
    "\n",
    "With this set of simulated hardware to interact with, we can exercise Ophyd, collect data with Bluesky, and retrieve data via the DataBroker for analysis and inspection."
   ]
  },
  {
   "cell_type": "markdown",
   "metadata": {},
   "source": [
    "### Basic EPICS tools\n",
    "\n",
    "The familiar EPICS commandline tools _caget_ and _caput_ are available. These provide a simple means of communicating with the simulated hardware."
   ]
  },
  {
   "cell_type": "code",
   "execution_count": null,
   "metadata": {
    "collapsed": true
   },
   "outputs": [],
   "source": [
    "from epics import caget, caput"
   ]
  },
  {
   "cell_type": "code",
   "execution_count": null,
   "metadata": {
    "collapsed": false
   },
   "outputs": [],
   "source": [
    "# fetch motor 1's readback position\n",
    "caget('sim:mtr1.RBV')"
   ]
  },
  {
   "cell_type": "code",
   "execution_count": null,
   "metadata": {
    "collapsed": false
   },
   "outputs": [],
   "source": [
    "# move motor 1 to a new position\n",
    "caput('sim:mtr1', 3.14)\n",
    "\n",
    "from time import sleep\n",
    "sleep(3.0) # give motor 1 time to move"
   ]
  },
  {
   "cell_type": "code",
   "execution_count": null,
   "metadata": {
    "collapsed": false
   },
   "outputs": [],
   "source": [
    "# check motor 1's new position\n",
    "caget('sim:mtr1.RBV')"
   ]
  },
  {
   "cell_type": "code",
   "execution_count": null,
   "metadata": {
    "collapsed": false
   },
   "outputs": [],
   "source": [
    "# what's the value of sensor 1 at the current position of motor 1?\n",
    "caget('sim:dev1:curr')"
   ]
  },
  {
   "cell_type": "markdown",
   "metadata": {},
   "source": [
    "### Initialize Ophyd\n",
    "\n",
    "Prior to making any other calls into the Ophyd python package, it should be initialized. This will provide a safe context for EPICS communication."
   ]
  },
  {
   "cell_type": "code",
   "execution_count": null,
   "metadata": {
    "collapsed": false
   },
   "outputs": [],
   "source": [
    "from ophyd.commands import setup_ophyd\n",
    "setup_ophyd()"
   ]
  },
  {
   "cell_type": "markdown",
   "metadata": {},
   "source": [
    "### Devices\n",
    "\n",
    "Ophyd permits working with _Devices_, rather than with individual EPICS process variables."
   ]
  },
  {
   "cell_type": "code",
   "execution_count": null,
   "metadata": {
    "collapsed": true
   },
   "outputs": [],
   "source": [
    "from ophyd import EpicsMotor, EpicsSignalRO\n",
    "\n",
    "m1 = EpicsMotor('sim:mtr1', name='m1')\n",
    "m2 = EpicsMotor('sim:mtr2', name='m2')\n",
    "\n",
    "# connect to sensor 1 as a read-only Signal\n",
    "sig1 = EpicsSignalRO('sim:dev1:curr', name='sig1')"
   ]
  },
  {
   "cell_type": "code",
   "execution_count": null,
   "metadata": {
    "collapsed": false
   },
   "outputs": [],
   "source": [
    "# are both EpicsMotors fully connected?\n",
    "m1.connected and m2.connected"
   ]
  },
  {
   "cell_type": "code",
   "execution_count": null,
   "metadata": {
    "collapsed": false
   },
   "outputs": [],
   "source": [
    "m1.position"
   ]
  },
  {
   "cell_type": "markdown",
   "metadata": {},
   "source": [
    "Now we can more naturally _move_ a motor. In this case, we will wait for the move to complete rather than proceeding to the next instructions immediately."
   ]
  },
  {
   "cell_type": "code",
   "execution_count": null,
   "metadata": {
    "collapsed": false
   },
   "outputs": [],
   "source": [
    "m1.move(0, wait=True)"
   ]
  },
  {
   "cell_type": "code",
   "execution_count": null,
   "metadata": {
    "collapsed": false
   },
   "outputs": [],
   "source": [
    "m1.position"
   ]
  },
  {
   "cell_type": "code",
   "execution_count": null,
   "metadata": {
    "collapsed": false
   },
   "outputs": [],
   "source": [
    "# we can even do a primitive scan using motor 1 and reading sensor 1 at each position\n",
    "import numpy as np\n",
    "\n",
    "positions = []\n",
    "data = []\n",
    "\n",
    "for pos in np.linspace(-5, 5, 25):\n",
    "    status = m1.move(pos)\n",
    "    while not status.done: pass\n",
    "    positions.append(m1.position)\n",
    "    data.append(sig1.value)\n",
    "\n",
    "%matplotlib inline\n",
    "from matplotlib.pyplot import plot, show\n",
    "\n",
    "plot(positions, data)"
   ]
  },
  {
   "cell_type": "markdown",
   "metadata": {},
   "source": [
    "We will see in other tutorials how Bluesky makes the process of data collection _much_ more powerful than what was achieved here."
   ]
  }
 ],
 "metadata": {
  "kernelspec": {
   "display_name": "Python 3",
   "language": "python",
   "name": "python3"
  },
  "language_info": {
   "codemirror_mode": {
    "name": "ipython",
    "version": 3
   },
   "file_extension": ".py",
   "mimetype": "text/x-python",
   "name": "python",
   "nbconvert_exporter": "python",
   "pygments_lexer": "ipython3",
   "version": "3.5.1"
  }
 },
 "nbformat": 4,
 "nbformat_minor": 0
}
