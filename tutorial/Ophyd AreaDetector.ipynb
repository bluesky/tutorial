{
 "cells": [
  {
   "cell_type": "markdown",
   "metadata": {},
   "source": [
    "# Area Detectors\n",
    "\n",
    "Working with EPICS areaDetectors in Ophyd follows the same paradigms as motors and other hardware: they're heirarchically composed `Device`s. Albeit, they can be significantly more complex to assemble than simple motors, as areaDetectors permit a 'plugin'-based architecture. This design permits on-demand addition of statistical analysis, file storage, image processing and more.\n",
    "\n",
    "In this tutorial, we will construct an areaDetector based on the \"SimDetector\" executing in our simulated hardware environment. The device will be configured with Image, Stats, and TIFF plugins.\n",
    "\n",
    "First, it is necessary to import the required classes:"
   ]
  },
  {
   "cell_type": "code",
   "execution_count": null,
   "metadata": {
    "collapsed": true
   },
   "outputs": [],
   "source": [
    "from ophyd import (SimDetector, SingleTrigger, TIFFPlugin,\n",
    "                   ImagePlugin, StatsPlugin, Component as Cpt)"
   ]
  },
  {
   "cell_type": "code",
   "execution_count": null,
   "metadata": {
    "collapsed": false
   },
   "outputs": [],
   "source": [
    "from ophyd.areadetector.filestore_mixins import FileStoreTIFFIterativeWrite"
   ]
  },
  {
   "cell_type": "markdown",
   "metadata": {},
   "source": [
    "The addition of file-writing capacity requires an appropriate Plugin. Here, TIFF is used, but there are other options available including HDF5. Further integration of file generation with the `FileStore` component is achieved with the addition of a suitable _mixin_ class."
   ]
  },
  {
   "cell_type": "code",
   "execution_count": null,
   "metadata": {
    "collapsed": true
   },
   "outputs": [],
   "source": [
    "class FileStoreTiffPlugin(TIFFPlugin, FileStoreTIFFIterativeWrite):\n",
    "    pass"
   ]
  },
  {
   "cell_type": "markdown",
   "metadata": {},
   "source": [
    "As with the `PVPositioner` example, a `FakeDetector` class is constructed here and composed of an `ImagePlugin`, a `StatsPlugin`, and a `FileStoreTiffPlugin`. The latter is not strictly required to produce TIFF files, but it is necessary for integration with `FileStore`. If such integration is not desired, simply use a plain `TIFFPlugin` instead of the `FileStoreTiffPlugin`."
   ]
  },
  {
   "cell_type": "code",
   "execution_count": null,
   "metadata": {
    "collapsed": false
   },
   "outputs": [],
   "source": [
    "class FakeDetector(SingleTrigger, SimDetector):\n",
    "    image = Cpt(ImagePlugin, 'image1:')\n",
    "    stats1 = Cpt(StatsPlugin, 'Stats1:')\n",
    "    \n",
    "    tiff = Cpt(FileStoreTiffPlugin, suffix='TIFF1:',\n",
    "               write_path_template='/tmp/')\n"
   ]
  },
  {
   "cell_type": "markdown",
   "metadata": {},
   "source": [
    "Instantiate a `FakeDetector`, and check its connectivity to the EPICS pv's that it contains:"
   ]
  },
  {
   "cell_type": "code",
   "execution_count": null,
   "metadata": {
    "collapsed": true
   },
   "outputs": [],
   "source": [
    "fakecam = FakeDetector('sim:det:', name='fakecam')"
   ]
  },
  {
   "cell_type": "code",
   "execution_count": null,
   "metadata": {
    "collapsed": false
   },
   "outputs": [],
   "source": [
    "fakecam.connected"
   ]
  },
  {
   "cell_type": "markdown",
   "metadata": {},
   "source": [
    "The primary function of any detector is to provide some physical measurement via a `read` operation. Devices in Ophyd are equipped with a `read_attrs` attribute that serves to filter the information that a `read` operation will return."
   ]
  },
  {
   "cell_type": "code",
   "execution_count": null,
   "metadata": {
    "collapsed": false
   },
   "outputs": [],
   "source": [
    "fakecam.read_attrs"
   ]
  },
  {
   "cell_type": "markdown",
   "metadata": {},
   "source": [
    "Here we see that the `cam`, `image`, `stats1`, and `tiff` components will all contribute to the output of a `read` operation. This operation will recurse through each of these components and their sub-components.\n",
    "\n",
    "This is going to be a lot of extraneous data, much of which is not important for our purposes. Let's limit the scope of what `fakecam.read()` produces by changing the `read_attrs` filter to only return the integrated intensity of the image(s) (i.e. the sum of each pixel over all images):"
   ]
  },
  {
   "cell_type": "code",
   "execution_count": null,
   "metadata": {
    "collapsed": true
   },
   "outputs": [],
   "source": [
    "fakecam.read_attrs = ['stats1.total']"
   ]
  },
  {
   "cell_type": "code",
   "execution_count": null,
   "metadata": {
    "collapsed": false
   },
   "outputs": [],
   "source": [
    "fakecam.read()"
   ]
  },
  {
   "cell_type": "markdown",
   "metadata": {},
   "source": [
    "### Bluesky/Detector Interactions\n",
    "\n",
    "During routine data collection operations, Bluesky's interaction with detector `Device`s consists of `stage()`, `trigger()`, `read()`, and `unstage()` actions:\n",
    "\n",
    "1. `stage()` - configures the detector with appropriately for the data acquisition operations\n",
    "2. `trigger()` - informs the detector to start collecting data (eg: exposing images, integrating, etc)\n",
    "3. `read()` - the data collection software extracts the recently acquired data from the detector and formats it\n",
    "4. `unstage()` - any configuration settings modified as part of the `stage()` operation are reverted"
   ]
  },
  {
   "cell_type": "code",
   "execution_count": null,
   "metadata": {
    "collapsed": false
   },
   "outputs": [],
   "source": [
    "fakecam.stage()"
   ]
  },
  {
   "cell_type": "markdown",
   "metadata": {},
   "source": [
    "Let's examine the camera's exposure time and period, as well as its mode and the number of images per trigger we can expect:"
   ]
  },
  {
   "cell_type": "code",
   "execution_count": null,
   "metadata": {
    "collapsed": false
   },
   "outputs": [],
   "source": [
    "print('fakecam exposure time =', fakecam.cam.acquire_time.get())\n",
    "print('fakecam acquire period =', fakecam.cam.acquire_period.get())\n",
    "print('fakecam acquisition mode =', fakecam.cam.image_mode.get(as_string=True))\n",
    "print('fakecam num images per trigger =', fakecam.cam.num_images.get())"
   ]
  },
  {
   "cell_type": "markdown",
   "metadata": {},
   "source": [
    "For demonstration purposes, these are fine. But keep in mind that generating even one megapixel images at 1/0.005 = 200 Hz will generate _**a lot** of data, **fast**_!"
   ]
  },
  {
   "cell_type": "code",
   "execution_count": null,
   "metadata": {
    "collapsed": false
   },
   "outputs": [],
   "source": [
    "fakecam.trigger()"
   ]
  },
  {
   "cell_type": "markdown",
   "metadata": {},
   "source": [
    "`Unstage` the camera, and re-examine what the key settings are now:"
   ]
  },
  {
   "cell_type": "code",
   "execution_count": null,
   "metadata": {
    "collapsed": false
   },
   "outputs": [],
   "source": [
    "fakecam.unstage()\n",
    "\n",
    "print('fakecam exposure time =', fakecam.cam.acquire_time.get())\n",
    "print('fakecam acquire period =', fakecam.cam.acquire_period.get())\n",
    "print('fakecam acquisition mode =', fakecam.cam.image_mode.get(as_string=True))\n",
    "print('fakecam num images per trigger =', fakecam.cam.num_images.get())"
   ]
  },
  {
   "cell_type": "markdown",
   "metadata": {},
   "source": [
    "\n",
    "Note that `unstage()`-ing the detector has reverted it to \"Continuous\" mode."
   ]
  },
  {
   "cell_type": "markdown",
   "metadata": {},
   "source": [
    "Next, we'll acquire a single image and plot it. But first, we'll need to put the detector into single image mode. To do that, we'll need to learn what the possible image modes are:"
   ]
  },
  {
   "cell_type": "code",
   "execution_count": null,
   "metadata": {
    "collapsed": false
   },
   "outputs": [],
   "source": [
    "from epics import cainfo\n",
    "cainfo('sim:det:cam1:ImageMode_RBV')"
   ]
  },
  {
   "cell_type": "markdown",
   "metadata": {},
   "source": [
    "Looks like we'll need image_mode = 0 or 'Single'."
   ]
  },
  {
   "cell_type": "code",
   "execution_count": null,
   "metadata": {
    "collapsed": false
   },
   "outputs": [],
   "source": [
    "fakecam.cam.image_mode.put('Single', wait=True)"
   ]
  },
  {
   "cell_type": "code",
   "execution_count": null,
   "metadata": {
    "collapsed": false
   },
   "outputs": [],
   "source": [
    "fakecam.cam.image_mode.get(as_string=True)"
   ]
  },
  {
   "cell_type": "code",
   "execution_count": null,
   "metadata": {
    "collapsed": true
   },
   "outputs": [],
   "source": [
    "fakecam.cam.num_images.put(1)"
   ]
  },
  {
   "cell_type": "markdown",
   "metadata": {},
   "source": [
    "We can now fetch a single image as a Numpy Array using the `image` property of the `image` plugin. Sounds confusing, but it's not."
   ]
  },
  {
   "cell_type": "code",
   "execution_count": null,
   "metadata": {
    "collapsed": true
   },
   "outputs": [],
   "source": [
    "img = fakecam.image.image"
   ]
  },
  {
   "cell_type": "code",
   "execution_count": null,
   "metadata": {
    "collapsed": false
   },
   "outputs": [],
   "source": [
    "img.shape"
   ]
  },
  {
   "cell_type": "code",
   "execution_count": null,
   "metadata": {
    "collapsed": false
   },
   "outputs": [],
   "source": [
    "%matplotlib inline\n",
    "from matplotlib.pyplot import imshow\n",
    "\n",
    "imshow(img)"
   ]
  }
 ],
 "metadata": {
  "kernelspec": {
   "display_name": "Python 3",
   "language": "python",
   "name": "python3"
  },
  "language_info": {
   "codemirror_mode": {
    "name": "ipython",
    "version": 3
   },
   "file_extension": ".py",
   "mimetype": "text/x-python",
   "name": "python",
   "nbconvert_exporter": "python",
   "pygments_lexer": "ipython3",
   "version": "3.5.1"
  }
 },
 "nbformat": 4,
 "nbformat_minor": 0
}
