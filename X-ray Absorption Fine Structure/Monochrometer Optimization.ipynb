{
 "cells": [
  {
   "cell_type": "markdown",
   "metadata": {},
   "source": [
    "# Monochrometer Optimization\n",
    "\n",
    "Bespoke plans that perform high-level tasks like \"Align my monochrometer optics,\" can be easily built out of bluesky's built-in plans, and they greatly improve the user experience.\n",
    "\n",
    "In this notebook you will:\n",
    "\n",
    "* Use a custom plan that is tuned to a specific, common task at an XAFS beamline.\n",
    "* This plan will take some readings, do some prompt analysis on those readings, and then immediately take an action based on the result.\n",
    "\n",
    "## Science Background\n",
    "\n",
    "Here is a schematic of a double crystal monochromator (DCM).  At BMM, the broadband radiation from the 3-pole wiggler source is incident upon the first crystal of the DCM.  The energy of the X-rays transmitted through the DCM is determined by Bragg diffraction, thus by the angle of the first crystal relative to the incident beam.  The second crystal is used to direct the monochromatic beam towards the downstream direction. To optimize the flux of transmitted beam, the second crystal must be parallel to the first crystal.  We perform this optimization by scanning the pitch of the second crystal and monitoring the intensity of the beam entering the experimental hutch.\n",
    "\n",
    "![DCM](./static/doubleb.gif)\n",
    "\n",
    "[(image source)](http://pd.chem.ucl.ac.uk/pdnn/inst2/condit.htm)"
   ]
  },
  {
   "cell_type": "code",
   "execution_count": null,
   "metadata": {},
   "outputs": [],
   "source": [
    "%matplotlib widget\n",
    "import matplotlib.pyplot as plt\n",
    "from bluesky import RunEngine\n",
    "from bluesky_tutorial_utils import setup_data_saving\n",
    "\n",
    "\n",
    "RE = RunEngine()\n",
    "catalog = setup_data_saving(RE)"
   ]
  },
  {
   "cell_type": "markdown",
   "metadata": {},
   "source": [
    "We will import a Bluesky *plan* from a script in the current directory, [plans.py](./plans.py). The plan operates on simulated hardware defined in another script, [simulated_hardware.py](./simulated_hardware.py). For the purposes of this tutorial we do not need to interact with the hardware directly; it's all done through the plan."
   ]
  },
  {
   "cell_type": "code",
   "execution_count": null,
   "metadata": {},
   "outputs": [],
   "source": [
    "from plans import rocking_curve\n",
    "\n",
    "help(rocking_curve)"
   ]
  },
  {
   "cell_type": "code",
   "execution_count": null,
   "metadata": {},
   "outputs": [],
   "source": [
    "plt.figure(num='I0 signal vs. DCM 2nd crystal pitch')"
   ]
  },
  {
   "cell_type": "code",
   "execution_count": null,
   "metadata": {},
   "outputs": [],
   "source": [
    "RE(rocking_curve())"
   ]
  },
  {
   "cell_type": "code",
   "execution_count": null,
   "metadata": {},
   "outputs": [],
   "source": [
    "plt.gcf()  # Display a snapshot of the current state of the figure."
   ]
  },
  {
   "cell_type": "code",
   "execution_count": null,
   "metadata": {},
   "outputs": [],
   "source": [
    "run = catalog[-1]\n",
    "run"
   ]
  },
  {
   "cell_type": "markdown",
   "metadata": {},
   "source": [
    "Access the saved data."
   ]
  },
  {
   "cell_type": "code",
   "execution_count": null,
   "metadata": {},
   "outputs": [],
   "source": [
    "data = run.primary.read()\n",
    "data"
   ]
  },
  {
   "cell_type": "markdown",
   "metadata": {},
   "source": [
    "Plot I0 vs pitch."
   ]
  },
  {
   "cell_type": "code",
   "execution_count": null,
   "metadata": {},
   "outputs": [],
   "source": [
    "plt.figure()  # New figure"
   ]
  },
  {
   "cell_type": "code",
   "execution_count": null,
   "metadata": {},
   "outputs": [],
   "source": [
    "data.plot.scatter(\"pitch\", \"I0\")\n",
    "plt.gcf()  # Display a snapshot of the current state of the figure."
   ]
  },
  {
   "cell_type": "markdown",
   "metadata": {},
   "source": [
    "We could have gone straight to the plot in one line by chaining all of this together."
   ]
  },
  {
   "cell_type": "code",
   "execution_count": null,
   "metadata": {},
   "outputs": [],
   "source": [
    "catalog[-1].primary.read().plot.scatter(\"pitch\", \"I0\")\n",
    "plt.gcf()  # Display a snapshot of the current state of the figure."
   ]
  }
 ],
 "metadata": {
  "kernelspec": {
   "display_name": "Python 3",
   "language": "python",
   "name": "python3"
  },
  "language_info": {
   "codemirror_mode": {
    "name": "ipython",
    "version": 3
   },
   "file_extension": ".py",
   "mimetype": "text/x-python",
   "name": "python",
   "nbconvert_exporter": "python",
   "pygments_lexer": "ipython3",
   "version": "3.7.7"
  }
 },
 "nbformat": 4,
 "nbformat_minor": 4
}
