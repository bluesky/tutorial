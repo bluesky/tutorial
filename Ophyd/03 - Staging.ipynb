{
 "cells": [
  {
   "cell_type": "markdown",
   "metadata": {},
   "source": [
    "## Staging: Ophyd's Hook for Device-Specific Setup and Cleanup\n",
    "\n",
    "When bluesky obtains a reading from some `device` it typically:\n",
    "\n",
    "* Calls `device.trigger()` and receives back a status object\n",
    "* Waits for that status object to complete (while potentially doing other things, like triggering other detectors in parallel)\n",
    "* Calls `device.read()`\n",
    "\n",
    "If it obtains multiple readings in sequence, it repeats this trigger/wait/read cycle. Sometimes, before triggering, there is some choreographed sequence of steps necessary to make `device` ready for use and some corresponding sequence to put in back safely into a resting state. To support this bluesky plans typically call `device.stage()` *once* before first using a device in a plan and then `device.unstage()` at the end. Even if a plan is interrupted by the user or by an exception begin raise, `device.unstage()` will be called.\n",
    "\n",
    "Like `device.trigger()`, is hook is optional and does not apply to all devices.\n",
    "\n",
    "It is typically used with detectors, but it can be used with any Device."
   ]
  },
  {
   "cell_type": "code",
   "execution_count": null,
   "metadata": {},
   "outputs": [],
   "source": [
    "from ophyd import set_and_wait\n",
    "\n",
    "class TriggeredDetector(Device):\n",
    "    \"\"\"\n",
    "    A detector that requires triggering\n",
    "    \"\"\"\n",
    "    gain = Component(EpicsSignal, ':gain', kind='config')\n",
    "    exposure_time = Component(EpicsSignal, ':exposure_time', kind='config')\n",
    "    reading = Component(EpicsSignalRO, ':reading', kind='normal')\n",
    "    acquire = Component(EpicsSignal, ':acquire', kind='omitted', put_complete=True)\n",
    "    enabled = Component(EpicsSignal, ':enabled', kind='omitted')\n",
    "\n",
    "    def trigger(self):\n",
    "        \"\"\"\n",
    "        Trigger the detector and return a Status object.\n",
    "        \"\"\"\n",
    "        status = DeviceStatus(self)\n",
    "        self.acquire.put(1, callback=status._finished)\n",
    "        return status\n",
    "    \n",
    "    def stage(self):\n",
    "        self.initial_enabled_state = self.enabled.get()\n",
    "        set_and_wait(self.enabled, 1)\n",
    "        return super().stage()\n",
    "    \n",
    "    def unstage(self):\n",
    "        ret =  super().unstage()\n",
    "        set_and_wait(self.enabled, self.initial_enabled_state)\n",
    "        return ret\n",
    "    \n",
    "triggered_detector = TriggeredDetector('trigger_with_pc', name='triggered_detector')"
   ]
  },
  {
   "cell_type": "code",
   "execution_count": null,
   "metadata": {},
   "outputs": [],
   "source": [
    "triggered_detector.enabled.put(0)\n",
    "triggered_detector.enabled.get()"
   ]
  },
  {
   "cell_type": "code",
   "execution_count": null,
   "metadata": {},
   "outputs": [],
   "source": [
    "triggered_detector.stage()"
   ]
  },
  {
   "cell_type": "code",
   "execution_count": null,
   "metadata": {},
   "outputs": [],
   "source": [
    "triggered_detector.enabled.get()"
   ]
  },
  {
   "cell_type": "code",
   "execution_count": null,
   "metadata": {},
   "outputs": [],
   "source": [
    "status = triggered_detector.trigger()"
   ]
  },
  {
   "cell_type": "code",
   "execution_count": null,
   "metadata": {},
   "outputs": [],
   "source": [
    "while not status.done:\n",
    "    time.sleep(0.01)"
   ]
  },
  {
   "cell_type": "code",
   "execution_count": null,
   "metadata": {},
   "outputs": [],
   "source": [
    "triggered_detector.read()"
   ]
  },
  {
   "cell_type": "code",
   "execution_count": null,
   "metadata": {},
   "outputs": [],
   "source": [
    "status = triggered_detector.trigger()"
   ]
  },
  {
   "cell_type": "code",
   "execution_count": null,
   "metadata": {},
   "outputs": [],
   "source": [
    "while not status.done:\n",
    "    time.sleep(0.01)"
   ]
  },
  {
   "cell_type": "code",
   "execution_count": null,
   "metadata": {},
   "outputs": [],
   "source": [
    "triggered_detector.read()"
   ]
  },
  {
   "cell_type": "code",
   "execution_count": null,
   "metadata": {},
   "outputs": [],
   "source": [
    "triggered_detector.unstage()"
   ]
  },
  {
   "cell_type": "code",
   "execution_count": null,
   "metadata": {},
   "outputs": [],
   "source": [
    "triggered_detector.enabled.get()"
   ]
  },
  {
   "cell_type": "markdown",
   "metadata": {},
   "source": [
    "### A convenient shorthand for common simple cases: `stage_sigs`"
   ]
  },
  {
   "cell_type": "code",
   "execution_count": null,
   "metadata": {},
   "outputs": [],
   "source": [
    "from ophyd import set_and_wait\n",
    "\n",
    "class TriggeredDetector(Device):\n",
    "    \"\"\"\n",
    "    A detector that requires triggering\n",
    "    \"\"\"\n",
    "    gain = Component(EpicsSignal, ':gain', kind='config')\n",
    "    exposure_time = Component(EpicsSignal, ':exposure_time', kind='config')\n",
    "    reading = Component(EpicsSignalRO, ':reading', kind='hinted')\n",
    "    acquire = Component(EpicsSignal, ':acquire', kind='omitted', put_complete=True)\n",
    "    enabled = Component(EpicsSignal, ':enabled', kind='omitted')\n",
    "    \n",
    "    def __init__(self, *args, **kwargs):\n",
    "        super().__init__(*args, **kwargs)\n",
    "        self.stage_sigs['enabled'] = 1  # OrderedDict mapping component name to desired state\n",
    "\n",
    "    def trigger(self):\n",
    "        \"\"\"\n",
    "        Trigger the detector and return a Status object.\n",
    "        \"\"\"\n",
    "        status = DeviceStatus(self)\n",
    "        self.acquire.put(1, callback=status._finished)\n",
    "        return status\n",
    "    \n",
    "triggered_detector = TriggeredDetector('trigger_with_pc', name='triggered_detector')"
   ]
  },
  {
   "cell_type": "markdown",
   "metadata": {},
   "source": [
    "## Exercise\n",
    "\n",
    "Try staging the device twice in a row. Then try unstaging it twice in a row."
   ]
  },
  {
   "cell_type": "code",
   "execution_count": null,
   "metadata": {},
   "outputs": [],
   "source": []
  },
  {
   "cell_type": "code",
   "execution_count": null,
   "metadata": {},
   "outputs": [],
   "source": []
  },
  {
   "cell_type": "code",
   "execution_count": null,
   "metadata": {},
   "outputs": [],
   "source": []
  },
  {
   "cell_type": "code",
   "execution_count": null,
   "metadata": {},
   "outputs": [],
   "source": []
  },
  {
   "cell_type": "markdown",
   "metadata": {},
   "source": [
    "## Customizing cleanup via `stop`, `resume`, `pause`\n",
    "\n",
    "These optional methods can be used to further customize a Device's cleanup:\n",
    "\n",
    "* `stop` -- called by bluesky when a plan is paused or exits (successfully or in error)\n",
    "* `pause` -- called when the RunEngine is paused\n",
    "* `resume` -- called when the RunEngine resumes from a pause"
   ]
  },
  {
   "cell_type": "code",
   "execution_count": null,
   "metadata": {},
   "outputs": [],
   "source": [
    "class TriggeredDetector(Device):\n",
    "    \"\"\"\n",
    "    A detector that requires triggering\n",
    "    \"\"\""
   ]
  },
  {
   "cell_type": "code",
   "execution_count": null,
   "metadata": {},
   "outputs": [],
   "source": [
    "    gain = Component(EpicsSignal, ':gain', kind='config')\n",
    "    exposure_time = Component(EpicsSignal, ':exposure_time', kind='config')\n",
    "    reading = Component(EpicsSignalRO, ':reading', kind='hinted')\n",
    "    acquire = Component(EpicsSignal, ':acquire', kind='omitted', put_complete=True)\n",
    "    enabled = Component(EpicsSignal, ':enabled', kind='omitted')\n",
    "    \n",
    "    def __init__(self, *args, **kwargs):\n",
    "        super().__init__(*args, **kwargs)\n",
    "        self.stage_sigs['enabled'] = 1  # OrderedDict mapping component name to desired state\n",
    "\n",
    "    def trigger(self):\n",
    "        \"\"\"\n",
    "        Trigger the detector and return a Status object.\n",
    "        \"\"\"\n",
    "        status = DeviceStatus(self)\n",
    "        self.acquire.put(1, callback=status._finished)\n",
    "        return status\n",
    "    \n",
    "    def resume(self):\n",
    "        ...\n",
    "        \n",
    "    def pause(self):\n",
    "        ...\n",
    "        \n",
    "    def stop(self, success=False):\n",
    "        ..."
   ]
  }
 ],
 "metadata": {
  "kernelspec": {
   "display_name": "Python 3",
   "language": "python",
   "name": "python3"
  },
  "language_info": {
   "codemirror_mode": {
    "name": "ipython",
    "version": 3
   },
   "file_extension": ".py",
   "mimetype": "text/x-python",
   "name": "python",
   "nbconvert_exporter": "python",
   "pygments_lexer": "ipython3",
   "version": "3.7.10"
  }
 },
 "nbformat": 4,
 "nbformat_minor": 4
}
