{
 "cells": [
  {
   "cell_type": "markdown",
   "metadata": {},
   "source": [
    "# Higher Dimensional Data"
   ]
  },
  {
   "cell_type": "code",
   "execution_count": 1,
   "metadata": {},
   "outputs": [],
   "source": [
    "import pathlib \n",
    "from collections import defaultdict\n",
    "\n",
    "import h5py\n",
    "import pandas as pd\n",
    "import numpy as np\n",
    "import xarray as xr\n",
    "\n",
    "import matplotlib.pyplot as plt\n",
    "from matplotlib.colors import LogNorm,Normalize\n",
    "import matplotlib.cm as cm\n",
    "\n",
    "from bluesky_tutorial_utils import fetch"
   ]
  },
  {
   "cell_type": "code",
   "execution_count": 2,
   "metadata": {},
   "outputs": [],
   "source": [
    "cat = fetch.rsoxs_catalog()"
   ]
  },
  {
   "cell_type": "markdown",
   "metadata": {},
   "source": [
    "## Working with Multiple xArrays: Gathering Data"
   ]
  },
  {
   "cell_type": "markdown",
   "metadata": {},
   "source": [
    "### Build Index Table (Table of Contents)"
   ]
  },
  {
   "cell_type": "code",
   "execution_count": 3,
   "metadata": {},
   "outputs": [],
   "source": [
    "def build_pandas_index(cat):\n",
    "    return pd.DataFrame(h.metadata['start'] for _, h in cat.items())"
   ]
  },
  {
   "cell_type": "code",
   "execution_count": 4,
   "metadata": {},
   "outputs": [],
   "source": [
    "toc = build_pandas_index(cat)"
   ]
  },
  {
   "cell_type": "code",
   "execution_count": 6,
   "metadata": {},
   "outputs": [],
   "source": [
    "toc"
   ]
  },
  {
   "cell_type": "code",
   "execution_count": 7,
   "metadata": {},
   "outputs": [],
   "source": [
    "toc.describe().loc[['count','min','max']]"
   ]
  },
  {
   "cell_type": "markdown",
   "metadata": {},
   "source": [
    "### Select subset of data From Index"
   ]
  },
  {
   "cell_type": "code",
   "execution_count": 8,
   "metadata": {},
   "outputs": [],
   "source": [
    "sdf = toc.query('Radius==40.0 & EndAngle==360.0 & PhysSize==5 & NumX==512')\n",
    "sdf = sdf.sort_values('Energy')\n",
    "sdf.describe().loc[['count','min','max']]"
   ]
  },
  {
   "cell_type": "markdown",
   "metadata": {},
   "source": [
    "### Filter via search\n",
    "\n",
    "You can also do the same filtering by searching the catalog"
   ]
  },
  {
   "cell_type": "code",
   "execution_count": 9,
   "metadata": {},
   "outputs": [],
   "source": [
    "filtered_cat = cat.search({\"Radius\": 40.0, \"PhysSize\": 5})\n",
    "fdf = build_pandas_index(filtered_cat)\n",
    "fdf.describe().loc[['count','min','max']]"
   ]
  },
  {
   "cell_type": "code",
   "execution_count": 10,
   "metadata": {},
   "outputs": [],
   "source": [
    "data = cat[-1]['primary'].read()"
   ]
  },
  {
   "cell_type": "code",
   "execution_count": 11,
   "metadata": {},
   "outputs": [],
   "source": [
    "data"
   ]
  },
  {
   "cell_type": "markdown",
   "metadata": {},
   "source": [
    "### Gather Data"
   ]
  },
  {
   "cell_type": "code",
   "execution_count": 32,
   "metadata": {},
   "outputs": [],
   "source": [
    "def gather(df, cat):\n",
    "    coords = []\n",
    "    data_arrays = []\n",
    "    for row_index, row in df.iterrows():\n",
    "        data = cat[row['uid']]['primary'].read()\n",
    "        # convert xr.DataSet to xr.DataArray in a very brute-foce way\n",
    "        nd = xr.DataArray(data['image'].squeeze(), \n",
    "                          dims=['Qy', 'Qx'], \n",
    "                          coords={'Qy': np.asarray(data['Qy']).squeeze(), \n",
    "                                  'Qx': np.asarray(data['Qx']).squeeze()})\n",
    "        data_arrays.append(nd)\n",
    "        c = dict(row)\n",
    "        for k in ['uid', 'time', 'input_file', 'source']:\n",
    "            del c[k]\n",
    "        coords.append(c)\n",
    "        \n",
    "    return data_arrays, pd.DataFrame(coords)"
   ]
  },
  {
   "cell_type": "code",
   "execution_count": 33,
   "metadata": {},
   "outputs": [],
   "source": [
    "data_arrays,coords = gather(fdf, cat)"
   ]
  },
  {
   "cell_type": "code",
   "execution_count": 34,
   "metadata": {},
   "outputs": [],
   "source": [
    "data_arrays[0]"
   ]
  },
  {
   "cell_type": "code",
   "execution_count": 35,
   "metadata": {},
   "outputs": [],
   "source": [
    "coords"
   ]
  },
  {
   "cell_type": "code",
   "execution_count": 17,
   "metadata": {},
   "outputs": [],
   "source": [
    "data_arrays[1].plot(norm=LogNorm(1e-9,1),aspect=1.2,size=5)"
   ]
  },
  {
   "cell_type": "markdown",
   "metadata": {},
   "source": [
    "## Multiple xArrays: simple xr.concat"
   ]
  },
  {
   "cell_type": "code",
   "execution_count": 18,
   "metadata": {},
   "outputs": [],
   "source": [
    "sdf = toc.query('Radius==40.0 & EndAngle==360.0 & PhysSize==5 & NumX==512')\n",
    "sdf = sdf.sort_values('Energy')\n",
    "display(sdf.describe().loc[['count','min','max']])\n",
    "\n",
    "data_arrays,coords = gather(sdf, cat)\n",
    "\n",
    "da = xr.concat(data_arrays,dim='Energy')\n",
    "da"
   ]
  },
  {
   "cell_type": "code",
   "execution_count": 19,
   "metadata": {},
   "outputs": [],
   "source": [
    "da = da.assign_coords(Energy=sdf.Energy.values)\n",
    "da"
   ]
  },
  {
   "cell_type": "code",
   "execution_count": 20,
   "metadata": {},
   "outputs": [],
   "source": [
    "da.sel(Qy=0,method='nearest').plot(norm=LogNorm(1e-9,1),yscale='log')"
   ]
  },
  {
   "cell_type": "code",
   "execution_count": 21,
   "metadata": {},
   "outputs": [],
   "source": []
  },
  {
   "cell_type": "markdown",
   "metadata": {},
   "source": [
    "## Building xArrays: Multi-Index"
   ]
  },
  {
   "cell_type": "code",
   "execution_count": 22,
   "metadata": {},
   "outputs": [],
   "source": [
    "sdf = toc.query('EndAngle==360.0 & PhysSize==5 & NumX==512')\n",
    "sdf = sdf.sort_values(['Energy','Radius'])\n",
    "display(sdf.describe().loc[['count','min','max']])"
   ]
  },
  {
   "cell_type": "code",
   "execution_count": 23,
   "metadata": {
    "tags": [
     "raises-exception"
    ]
   },
   "outputs": [],
   "source": [
    "data_arrays,coords = gather(sdf, cat)\n",
    "\n",
    "da = xr.concat(data_arrays,dim=['Energy','Radius'])"
   ]
  },
  {
   "cell_type": "markdown",
   "metadata": {},
   "source": [
    "hmmm...that didn't work...\n",
    "\n",
    "\n",
    "Let's try a multi-index"
   ]
  },
  {
   "cell_type": "code",
   "execution_count": 24,
   "metadata": {},
   "outputs": [],
   "source": [
    "keys =  ['Energy','Radius']\n",
    "tuples = [(i,j) for i,j in sdf[keys].values]\n",
    "index = pd.MultiIndex.from_tuples(tuples,names=keys)\n",
    "index.name = 'system'\n",
    "da = xr.concat(data_arrays,dim=index)\n",
    "da"
   ]
  },
  {
   "cell_type": "code",
   "execution_count": 25,
   "metadata": {},
   "outputs": [],
   "source": [
    "da.sel(Energy=285.,method='nearest')"
   ]
  },
  {
   "cell_type": "code",
   "execution_count": 26,
   "metadata": {},
   "outputs": [],
   "source": [
    "da.sel(Energy=285.,Qy=0,method='nearest').plot.line(x='Qx',yscale='log',xscale='log')#(norm=LogNorm(1e-9,1))"
   ]
  },
  {
   "cell_type": "code",
   "execution_count": 27,
   "metadata": {},
   "outputs": [],
   "source": [
    "da.sel(Energy=285.,method='nearest').plot(col='Radius',col_wrap=3,norm=LogNorm(1e-9,1))"
   ]
  },
  {
   "cell_type": "code",
   "execution_count": null,
   "metadata": {},
   "outputs": [],
   "source": []
  }
 ],
 "metadata": {
  "kernelspec": {
   "display_name": "Python 3",
   "language": "python",
   "name": "python3"
  },
  "language_info": {
   "codemirror_mode": {
    "name": "ipython",
    "version": 3
   },
   "file_extension": ".py",
   "mimetype": "text/x-python",
   "name": "python",
   "nbconvert_exporter": "python",
   "pygments_lexer": "ipython3",
   "version": "3.7.7"
  }
 },
 "nbformat": 4,
 "nbformat_minor": 4
}
